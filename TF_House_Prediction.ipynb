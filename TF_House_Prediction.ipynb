{
 "cells": [
  {
   "cell_type": "code",
   "execution_count": 1,
   "id": "1cfa5bd1-150e-421a-9fe7-b6c55ed37ca0",
   "metadata": {},
   "outputs": [
    {
     "name": "stdout",
     "output_type": "stream",
     "text": [
      "Writing TF_model.py\n"
     ]
    }
   ],
   "source": [
    "%%writefile TF_model.py\n",
    "\n",
    "import tensorflow as tf\n",
    "from tensorflow.keras.layers import Dense\n",
    "from tensorflow.keras.models import Sequential\n",
    "import matplotlib.pyplot as plt\n",
    "import seaborn as sns\n",
    "\n",
    "def tf_model(X_train_float,y_train_float,epochs_):\n",
    "    model_tf = Sequential([\n",
    "        Dense(64,'relu',input_shape=(X_train_float.shape[1],)),\n",
    "        Dense(64,'relu'),\n",
    "        Dense(64,'relu'),\n",
    "        Dense(1,'relu')\n",
    "    ])\n",
    "    \n",
    "    model_tf.compile(optimizer='adam',loss='mean_squared_error',metrics=['mean_absolute_error'])\n",
    "    \n",
    "    \n",
    "    epochs = epochs_\n",
    "    history = model_tf.fit(X_train_float,y_train_float,epochs=epochs,validation_split=0.2,batch_size=32)\n",
    "\n",
    "    return history, model_tf\n",
    "\n",
    "\n",
    "def plots(history,epochs):\n",
    "    val_loss = history.history['val_loss']\n",
    "    loss = history.history['loss']\n",
    "    mse = history.history['mean_absolute_error']\n",
    "    val_mse = history.history['val_mean_absolute_error']\n",
    "    epochs_range = range(epochs)\n",
    "    \n",
    "    fig,axs = plt.subplots(1,2,figsize=(12,8))\n",
    "    axs[0].plot(epochs_range,loss,label='Loss')\n",
    "    axs[0].plot(epochs_range,val_loss,label='Val loss')\n",
    "    axs[0].legend(loc='upper left')\n",
    "    axs[0].set_title(\"Loss vs Val loss\")\n",
    "    \n",
    "    axs[1].plot(epochs_range,mse,label='Mean absolute error')\n",
    "    axs[1].plot(epochs_range,val_mse,label='Val Mean absolute error')\n",
    "    axs[1].legend(loc='upper left')\n",
    "    axs[1].set_title(\"Mse vs Val mse\")"
   ]
  },
  {
   "cell_type": "code",
   "execution_count": null,
   "id": "233598dc-5689-4cff-b70b-bba0832d21fa",
   "metadata": {},
   "outputs": [],
   "source": []
  }
 ],
 "metadata": {
  "kernelspec": {
   "display_name": "Python 3 (ipykernel)",
   "language": "python",
   "name": "python3"
  },
  "language_info": {
   "codemirror_mode": {
    "name": "ipython",
    "version": 3
   },
   "file_extension": ".py",
   "mimetype": "text/x-python",
   "name": "python",
   "nbconvert_exporter": "python",
   "pygments_lexer": "ipython3",
   "version": "3.9.18"
  }
 },
 "nbformat": 4,
 "nbformat_minor": 5
}
